{
 "cells": [
  {
   "cell_type": "code",
   "execution_count": 4,
   "metadata": {},
   "outputs": [],
   "source": [
    "import pandas as pd"
   ]
  },
  {
   "cell_type": "code",
   "execution_count": 5,
   "metadata": {},
   "outputs": [],
   "source": [
    "data = pd.read_csv(\"PSB/data/kad_arbitr_processed.csv\")\n",
    "data = data.drop(columns=[\"Количество_дел_истец\", \"Количество_дел_ответчик\", 'Сумма_истец', 'Сумма_ответчик', 'Количество_завершенных_дел', \"Процент_дел_истцом\", \"Процент_выигранных_дел\", \"Соотношение_сумм_истец_ответчик\"])\n",
    "data[\"Последнее_дело_дата\"] = data[\"Последнее_дело_дата\"].fillna(round(data[\"Последнее_дело_дата\"].median()))\n",
    "data[\"Первое_дело_дата\"] = data[\"Первое_дело_дата\"].fillna(round(data[\"Последнее_дело_дата\"].median()))\n",
    "data[\"Длительность_судебной_истории\"] = data[\"Длительность_судебной_истории\"].fillna(round(data[\"Последнее_дело_дата\"].median()))\n",
    "data.to_csv(\"PSB/data/kad_arbitr_final.csv\")"
   ]
  }
 ],
 "metadata": {
  "kernelspec": {
   "display_name": "Python 3",
   "language": "python",
   "name": "python3"
  },
  "language_info": {
   "codemirror_mode": {
    "name": "ipython",
    "version": 3
   },
   "file_extension": ".py",
   "mimetype": "text/x-python",
   "name": "python",
   "nbconvert_exporter": "python",
   "pygments_lexer": "ipython3",
   "version": "3.13.0"
  }
 },
 "nbformat": 4,
 "nbformat_minor": 2
}
