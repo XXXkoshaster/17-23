{
 "cells": [
  {
   "cell_type": "code",
   "execution_count": 1,
   "metadata": {},
   "outputs": [],
   "source": [
    "import pandas as pd"
   ]
  },
  {
   "cell_type": "code",
   "execution_count": 2,
   "metadata": {},
   "outputs": [],
   "source": [
    "data = pd.read_csv(\"PSB/data/organizations.csv\")\n",
    "data = data.drop(columns=[\"invalid_info\", \"Unnamed: 0\", \"Unnamed: 0.1\"],  axis=1)\n",
    "\n",
    "status_dummies = pd.get_dummies(data['status'], prefix='status').astype(int)\n",
    "data = pd.concat([data, status_dummies], axis=1)\n",
    "data = data.drop('status', axis=1)\n",
    "\n",
    "data.to_csv(\"PSB/data/organizations_processed.csv\", index=False)"
   ]
  }
 ],
 "metadata": {
  "kernelspec": {
   "display_name": "Python 3",
   "language": "python",
   "name": "python3"
  },
  "language_info": {
   "codemirror_mode": {
    "name": "ipython",
    "version": 3
   },
   "file_extension": ".py",
   "mimetype": "text/x-python",
   "name": "python",
   "nbconvert_exporter": "python",
   "pygments_lexer": "ipython3",
   "version": "3.13.0"
  }
 },
 "nbformat": 4,
 "nbformat_minor": 2
}
