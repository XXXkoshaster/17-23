{
 "cells": [
  {
   "cell_type": "code",
   "execution_count": 228,
   "id": "2e0f3888",
   "metadata": {},
   "outputs": [],
   "source": [
    "from hyperopt import hp, Trials, fmin, tpe\n",
    "from sklearn import metrics\n",
    "import pandas as pd\n",
    "import pickle\n",
    "from sklearn.model_selection import train_test_split\n",
    "import xgboost as xgb\n",
    "import numpy as np\n",
    "from functools import partial\n",
    "from sklearn.metrics import confusion_matrix, roc_auc_score, classification_report"
   ]
  },
  {
   "cell_type": "code",
   "execution_count": 229,
   "id": "b3663f17",
   "metadata": {},
   "outputs": [],
   "source": [
    "with open('../data/train_df.pkl', 'rb') as handle:\n",
    "    train_df = pickle.load(handle)\n",
    "\n",
    "with open('../data/test_df.pkl', 'rb') as handle:\n",
    "    test_df = pickle.load(handle)"
   ]
  },
  {
   "cell_type": "code",
   "execution_count": 230,
   "id": "1498f14f",
   "metadata": {},
   "outputs": [
    {
     "name": "stdout",
     "output_type": "stream",
     "text": [
      "<class 'pandas.core.frame.DataFrame'>\n",
      "RangeIndex: 4500 entries, 0 to 4499\n",
      "Data columns (total 33 columns):\n",
      " #   Column                             Non-Null Count  Dtype  \n",
      "---  ------                             --------------  -----  \n",
      " 0   inn                                4500 non-null   int64  \n",
      " 1   data_ОКВЭД_Код                     4500 non-null   object \n",
      " 2   data_Налоги_СумУпл                 4500 non-null   float64\n",
      " 3   data_Налоги_СумНедоим              4500 non-null   float64\n",
      " 4   data_УстКап_Сумма                  4500 non-null   float64\n",
      " 5   data_Санкции                       4500 non-null   int64  \n",
      " 6   data_НелегалФин                    4500 non-null   int64  \n",
      " 7   Возраст_компании                   4500 non-null   int64  \n",
      " 8   Недостоверный_адрес                4500 non-null   int64  \n",
      " 9   Особый_налоговый_режим             4500 non-null   int64  \n",
      " 10  Массовый_учредитель                4500 non-null   int64  \n",
      " 11  Есть_банкротство                   4500 non-null   int64  \n",
      " 12  Недобросовестный_поставщик         4500 non-null   int64  \n",
      " 13  Среднесписочная_численность        4500 non-null   int64  \n",
      " 14  Количество_дел                     4500 non-null   float64\n",
      " 15  Общая_сумма                        4500 non-null   float64\n",
      " 16  Среднее_по_делу                    4500 non-null   float64\n",
      " 17  Максимальная_сумма                 4500 non-null   float64\n",
      " 18  Последнее_дело_дата                4500 non-null   float64\n",
      " 19  Первое_дело_дата                   4500 non-null   float64\n",
      " 20  Количество_дел_в_производстве      4500 non-null   float64\n",
      " 21  Всего_дел_в_системе                4500 non-null   float64\n",
      " 22  Длительность_судебной_истории      4500 non-null   float64\n",
      " 23  status_Действующая организация     4500 non-null   int64  \n",
      " 24  status_Деятельность прекращена     4500 non-null   int64  \n",
      " 25  status_Процесс банкротства         4500 non-null   int64  \n",
      " 26  status_Процесс исключения          4500 non-null   int64  \n",
      " 27  status_Процесс реорганизации       4500 non-null   int64  \n",
      " 28  status_Стадия ликвидации           4500 non-null   int64  \n",
      " 29  Категория_МСП_МАЛОЕ ПРЕДПРИЯТИЕ    4500 non-null   int64  \n",
      " 30  Категория_МСП_МИКРОПРЕДПРИЯТИЕ     4500 non-null   int64  \n",
      " 31  Категория_МСП_Неизвестно           4500 non-null   int64  \n",
      " 32  Категория_МСП_СРЕДНЕЕ ПРЕДПРИЯТИЕ  4500 non-null   int64  \n",
      "dtypes: float64(12), int64(20), object(1)\n",
      "memory usage: 1.1+ MB\n",
      "None\n"
     ]
    }
   ],
   "source": [
    "print(test_df.info())"
   ]
  },
  {
   "cell_type": "code",
   "execution_count": 231,
   "id": "e64db1be",
   "metadata": {},
   "outputs": [],
   "source": [
    "X, y = train_df.drop(columns=['target']), train_df['target']\n",
    "X['data_ОКВЭД_Код'] = X['data_ОКВЭД_Код'].apply(lambda x: int(x.split('.')[0]))"
   ]
  },
  {
   "cell_type": "code",
   "execution_count": 232,
   "id": "14438e60",
   "metadata": {},
   "outputs": [],
   "source": [
    "X_train, X_test, y_train, y_test = train_test_split(X, y, test_size = 0.2, random_state = 1)\n"
   ]
  },
  {
   "cell_type": "code",
   "execution_count": 233,
   "id": "c7d8f08e",
   "metadata": {},
   "outputs": [],
   "source": [
    "dtrain_reg = xgb.DMatrix(X_train, y_train, enable_categorical=True)\n",
    "dtest_reg = xgb.DMatrix(X_test, y_test, enable_categorical=True)"
   ]
  },
  {
   "cell_type": "code",
   "execution_count": 234,
   "id": "a8e58ab8",
   "metadata": {},
   "outputs": [],
   "source": [
    "space = {'max_depth': hp.quniform(\"max_depth\", 3, 18, 1), \n",
    "        'gamma': hp.uniform('gamma', 1, 9), \n",
    "        'reg_alpha': hp.quniform('reg_alpha', 40, 180, 1),\n",
    "        'reg_lambda': hp.uniform('reg_lambda', 0, 1), \n",
    "        'colsample_bytree': hp.uniform('colsample_bytree', 0.5, 1),\n",
    "        'min_child_weight': hp.quniform('min_child_weight', 0, 50, 1),\n",
    "        'n_estimators': 180,\n",
    "        'seed': 0\n",
    "    }"
   ]
  },
  {
   "cell_type": "code",
   "execution_count": 235,
   "id": "f1c1bb4e",
   "metadata": {},
   "outputs": [],
   "source": [
    "def objective(space, X_train, y_train, X_test, y_test): \n",
    "    clf = xgb.XGBClassifier(\n",
    "        n_estimators = int(space['n_estimators']),\n",
    "        max_depth = int(space['max_depth']),\n",
    "        gamma = space['gamma'],\n",
    "        reg_alpha = int(space['reg_alpha']),\n",
    "        reg_lambda = space['reg_lambda'],\n",
    "        colsample_bytree = float(space['colsample_bytree']),\n",
    "        min_child_weight = int(space['min_child_weight']),\n",
    "        scale_pos_weight = len(y_train[y_train == 0]) / len(y_train[y_train == 1]),\n",
    "        early_stopping_rounds=10\n",
    "    )\n",
    "\n",
    "    evalution = [(X_train, y_train), (X_test, y_test)]\n",
    "\n",
    "    clf.fit(X_train, y_train, \n",
    "            eval_set=evalution,\n",
    "            verbose=False,\n",
    "           )\n",
    "    \n",
    "    pred_proba = clf.predict_proba(X_test)[:,1]\n",
    "    roc_auc = roc_auc_score(y_test, pred_proba)\n",
    "    \n",
    "\n",
    "    return -roc_auc"
   ]
  },
  {
   "cell_type": "code",
   "execution_count": 236,
   "id": "4c36be78",
   "metadata": {},
   "outputs": [
    {
     "name": "stdout",
     "output_type": "stream",
     "text": [
      "100%|██████████| 100/100 [00:09<00:00, 10.90trial/s, best loss: -0.8780663967611335]\n"
     ]
    },
    {
     "data": {
      "text/plain": [
       "{'colsample_bytree': np.float64(0.5576412103528469),\n",
       " 'gamma': np.float64(2.6280355100681327),\n",
       " 'max_depth': np.float64(17.0),\n",
       " 'min_child_weight': np.float64(30.0),\n",
       " 'reg_alpha': np.float64(45.0),\n",
       " 'reg_lambda': np.float64(0.9787834967133361)}"
      ]
     },
     "execution_count": 236,
     "metadata": {},
     "output_type": "execute_result"
    }
   ],
   "source": [
    "trials = Trials()\n",
    "\n",
    "objective_with_data = partial(objective, X_train=X_train, y_train=y_train, X_test=X_test, y_test=y_test)\n",
    "\n",
    "best_hyperparametrs = fmin(fn = objective_with_data,\n",
    "                           space = space,\n",
    "                           algo= tpe.suggest,\n",
    "                           max_evals=100,\n",
    "                           trials=trials,\n",
    "                        )\n",
    "\n",
    "best_hyperparametrs"
   ]
  },
  {
   "cell_type": "code",
   "execution_count": 237,
   "id": "ff7fbc28",
   "metadata": {},
   "outputs": [],
   "source": [
    "scale_pos_weight = len(y_train[y_train == 0]) / len(y_train[y_train == 1])\n",
    "\n",
    "final_params = {\n",
    "    'n_estimators': 180, \n",
    "    'max_depth': int(best_hyperparametrs['max_depth']),\n",
    "    'gamma': float(best_hyperparametrs['gamma']),\n",
    "    'reg_alpha': int(best_hyperparametrs['reg_alpha']),\n",
    "    'reg_lambda': float(best_hyperparametrs['reg_lambda']),\n",
    "    'colsample_bytree': float(best_hyperparametrs['colsample_bytree']),\n",
    "    'min_child_weight': int(best_hyperparametrs['min_child_weight']),\n",
    "    'scale_pos_weight': scale_pos_weight \n",
    "}"
   ]
  },
  {
   "cell_type": "code",
   "execution_count": 238,
   "id": "608dab51",
   "metadata": {},
   "outputs": [
    {
     "name": "stdout",
     "output_type": "stream",
     "text": [
      "Точность на тестовых данных: 0.8614285714285714\n"
     ]
    }
   ],
   "source": [
    "final_model = xgb.XGBClassifier(**final_params)\n",
    "\n",
    "final_model.fit(X_train, y_train)\n",
    "\n",
    "predictions = final_model.predict(X_test)\n",
    "accuracy = metrics.accuracy_score(y_test, predictions > 0.5)\n",
    "\n",
    "print(f\"Точность на тестовых данных: {accuracy}\")"
   ]
  },
  {
   "cell_type": "code",
   "execution_count": 239,
   "id": "c29f03cb",
   "metadata": {},
   "outputs": [
    {
     "name": "stdout",
     "output_type": "stream",
     "text": [
      "Confusion Matrix:\n",
      "[[1468  157]\n",
      " [ 134  341]]\n",
      "ROC-AUC Score:\n",
      "0.8106396761133603\n",
      "Gini Coefficient:\n",
      "0.6212793522267206\n",
      "Отчет:\n",
      "              precision    recall  f1-score   support\n",
      "\n",
      "           0       0.92      0.90      0.91      1625\n",
      "           1       0.68      0.72      0.70       475\n",
      "\n",
      "    accuracy                           0.86      2100\n",
      "   macro avg       0.80      0.81      0.81      2100\n",
      "weighted avg       0.86      0.86      0.86      2100\n",
      "\n"
     ]
    }
   ],
   "source": [
    "print(\"Confusion Matrix:\")\n",
    "conf_matrix = confusion_matrix(y_test, predictions)\n",
    "print(conf_matrix)\n",
    "\n",
    "print(\"ROC-AUC Score:\")\n",
    "roc_auc = roc_auc_score(y_test, predictions)\n",
    "print(roc_auc)\n",
    "\n",
    "print(\"Gini Coefficient:\")\n",
    "gini = 2 * roc_auc - 1\n",
    "print(gini)\n",
    "\n",
    "print(\"Отчет:\")\n",
    "print(classification_report(y_test, predictions))"
   ]
  },
  {
   "cell_type": "code",
   "execution_count": null,
   "id": "6c6ce02f",
   "metadata": {},
   "outputs": [],
   "source": [
    "test_df['data_ОКВЭД_Код'] = test_df['data_ОКВЭД_Код'].apply(lambda x: int(x.split('.')[0]))"
   ]
  },
  {
   "cell_type": "code",
   "execution_count": 253,
   "id": "0ec90e3f",
   "metadata": {},
   "outputs": [
    {
     "data": {
      "text/plain": [
       "array([0, 0, 1, ..., 0, 0, 1])"
      ]
     },
     "execution_count": 253,
     "metadata": {},
     "output_type": "execute_result"
    }
   ],
   "source": [
    "X_test_final = test_df\n",
    "real_predictions = final_model.predict(X_test_final)\n",
    "real_predictions"
   ]
  },
  {
   "cell_type": "code",
   "execution_count": 250,
   "id": "2a3c7dbb",
   "metadata": {},
   "outputs": [
    {
     "data": {
      "text/plain": [
       "(4500, 33)"
      ]
     },
     "execution_count": 250,
     "metadata": {},
     "output_type": "execute_result"
    }
   ],
   "source": [
    "real_predictions.size\n",
    "test_df.shape"
   ]
  },
  {
   "cell_type": "code",
   "execution_count": 255,
   "id": "a79b215b",
   "metadata": {},
   "outputs": [],
   "source": [
    "result = pd.DataFrame({'inn': test_df['inn'],\n",
    "                       'target': real_predictions})"
   ]
  },
  {
   "cell_type": "code",
   "execution_count": 256,
   "id": "3bc66a4a",
   "metadata": {},
   "outputs": [
    {
     "name": "stdout",
     "output_type": "stream",
     "text": [
      "\n",
      "Распределение предсказанных классов в тестовом наборе:\n",
      "\n",
      "Статистика вероятностей:\n"
     ]
    }
   ],
   "source": [
    "print(\"\\nРаспределение предсказанных классов в тестовом наборе:\")\n",
    "#print(results_df['predicted_class'].value_counts(normalize=True) * 100)\n",
    "\n",
    "print(\"\\nСтатистика вероятностей:\")\n",
    "#print(results_df['probability_class_1'].describe())\n",
    "\n",
    "result.to_csv('../results/test_predictions.csv', index=False)"
   ]
  },
  {
   "cell_type": "code",
   "execution_count": 242,
   "id": "e221187f",
   "metadata": {},
   "outputs": [],
   "source": [
    "with open('../results/checkpoints_V0.pkl', 'wb') as handle:\n",
    "    pickle.dump(final_model, handle)"
   ]
  }
 ],
 "metadata": {
  "kernelspec": {
   "display_name": "psb",
   "language": "python",
   "name": "python3"
  },
  "language_info": {
   "codemirror_mode": {
    "name": "ipython",
    "version": 3
   },
   "file_extension": ".py",
   "mimetype": "text/x-python",
   "name": "python",
   "nbconvert_exporter": "python",
   "pygments_lexer": "ipython3",
   "version": "3.12.9"
  }
 },
 "nbformat": 4,
 "nbformat_minor": 5
}
