{
 "cells": [
  {
   "cell_type": "code",
   "execution_count": 1,
   "id": "a92ce8e4",
   "metadata": {},
   "outputs": [],
   "source": [
    "import pandas as pd"
   ]
  },
  {
   "cell_type": "code",
   "execution_count": 3,
   "id": "4fe1d5ee",
   "metadata": {},
   "outputs": [],
   "source": [
    "data = pd.read_csv(\"PSB/data/egrul_processed.csv\")\n",
    "data[\"data_Налоги_СумУпл\"] = data[\"data_Налоги_СумУпл\"].fillna(data[\"data_Налоги_СумУпл\"].mean())\n",
    "data[\"data_Налоги_СумНедоим\"] = data[\"data_Налоги_СумНедоим\"].fillna(0)\n",
    "data[\"data_УстКап_Сумма\"] = data[\"data_УстКап_Сумма\"].fillna(data[\"data_УстКап_Сумма\"].mode()[0])\n",
    "data.to_csv(\"PSB/data/egrul_final.csv\")"
   ]
  }
 ],
 "metadata": {
  "kernelspec": {
   "display_name": "Python 3",
   "language": "python",
   "name": "python3"
  },
  "language_info": {
   "codemirror_mode": {
    "name": "ipython",
    "version": 3
   },
   "file_extension": ".py",
   "mimetype": "text/x-python",
   "name": "python",
   "nbconvert_exporter": "python",
   "pygments_lexer": "ipython3",
   "version": "3.13.0"
  }
 },
 "nbformat": 4,
 "nbformat_minor": 5
}
